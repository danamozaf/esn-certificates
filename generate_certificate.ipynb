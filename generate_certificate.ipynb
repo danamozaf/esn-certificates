{
  "nbformat": 4,
  "nbformat_minor": 0,
  "metadata": {
    "colab": {
      "name": "generate_certificate",
      "provenance": [],
      "collapsed_sections": [],
      "toc_visible": true,
      "include_colab_link": true
    },
    "kernelspec": {
      "name": "python3",
      "display_name": "Python 3"
    }
  },
  "cells": [
    {
      "cell_type": "markdown",
      "metadata": {
        "id": "view-in-github",
        "colab_type": "text"
      },
      "source": [
        "<a href=\"https://colab.research.google.com/github/danamozaf/esn-certificates/blob/master/generate_certificate.ipynb\" target=\"_parent\"><img src=\"https://colab.research.google.com/assets/colab-badge.svg\" alt=\"Open In Colab\"/></a>"
      ]
    },
    {
      "cell_type": "markdown",
      "metadata": {
        "id": "3y0e-ZCrTUII"
      },
      "source": [
        "# Script to generate certificates of recognition for ESN CH"
      ]
    },
    {
      "cell_type": "markdown",
      "metadata": {
        "id": "FyPlIKfq9lxA"
      },
      "source": [
        "## Install required packages and apps (takes 1-2 minutes)"
      ]
    },
    {
      "cell_type": "code",
      "metadata": {
        "id": "1sOj3mOSRPHX",
        "colab": {
          "base_uri": "https://localhost:8080/"
        },
        "outputId": "a6d48c7f-e956-4d52-cbbd-fb787cfd2354"
      },
      "source": [
        "!pip install yattag\n",
        "!pip install selenium\n",
        "!apt-get update # to update ubuntu to correctly run apt install\n",
        "!apt install chromium-chromedriver\n",
        "!cp /usr/lib/chromium-browser/chromedriver /usr/bin\n",
        " \n",
        "import sys\n",
        "sys.path.insert(0,'/usr/lib/chromium-browser/chromedriver')\n",
        " \n",
        "from selenium import webdriver\n",
        "chrome_options = webdriver.ChromeOptions()\n",
        "chrome_options.add_argument('--headless')\n",
        "chrome_options.add_argument('--no-sandbox')\n",
        "chrome_options.add_argument('--disable-dev-shm-usage')\n",
        "wd = webdriver.Chrome('chromedriver',chrome_options=chrome_options)\n",
        "wd.get(\"https://www.webite-url.com\")\n",
        " \n",
        "!pip install pychromepdf\n",
        "\n",
        "! rm -rf ./data\n",
        "!git clone https://github.com/danamozaf/esn-certificates.git data\n",
        " \n",
        "from yattag import Doc, indent\n",
        "from pychromepdf import ChromePDF"
      ],
      "execution_count": 1,
      "outputs": [
        {
          "output_type": "stream",
          "text": [
            "Collecting yattag\n",
            "  Downloading https://files.pythonhosted.org/packages/a2/dc/53ce10a508df291c973293535536961fdc014de088cf0c9534165af880d5/yattag-1.14.0.tar.gz\n",
            "Building wheels for collected packages: yattag\n",
            "  Building wheel for yattag (setup.py) ... \u001b[?25l\u001b[?25hdone\n",
            "  Created wheel for yattag: filename=yattag-1.14.0-cp37-none-any.whl size=15659 sha256=c5f8c4d1cc1abfd9919d766f718c247f095f8d59ddfeb8d7dcea28ace0f92919\n",
            "  Stored in directory: /root/.cache/pip/wheels/f9/f7/03/c04356ec5f399b897afb5242246a54faa292d9d190cad31430\n",
            "Successfully built yattag\n",
            "Installing collected packages: yattag\n",
            "Successfully installed yattag-1.14.0\n",
            "Collecting selenium\n",
            "\u001b[?25l  Downloading https://files.pythonhosted.org/packages/80/d6/4294f0b4bce4de0abf13e17190289f9d0613b0a44e5dd6a7f5ca98459853/selenium-3.141.0-py2.py3-none-any.whl (904kB)\n",
            "\u001b[K     |████████████████████████████████| 911kB 8.4MB/s \n",
            "\u001b[?25hRequirement already satisfied: urllib3 in /usr/local/lib/python3.7/dist-packages (from selenium) (1.24.3)\n",
            "Installing collected packages: selenium\n",
            "Successfully installed selenium-3.141.0\n",
            "Get:1 https://cloud.r-project.org/bin/linux/ubuntu bionic-cran40/ InRelease [3,626 B]\n",
            "Ign:2 https://developer.download.nvidia.com/compute/cuda/repos/ubuntu1804/x86_64  InRelease\n",
            "Ign:3 https://developer.download.nvidia.com/compute/machine-learning/repos/ubuntu1804/x86_64  InRelease\n",
            "Hit:4 https://developer.download.nvidia.com/compute/cuda/repos/ubuntu1804/x86_64  Release\n",
            "Hit:5 https://developer.download.nvidia.com/compute/machine-learning/repos/ubuntu1804/x86_64  Release\n",
            "Get:6 http://security.ubuntu.com/ubuntu bionic-security InRelease [88.7 kB]\n",
            "Hit:7 http://archive.ubuntu.com/ubuntu bionic InRelease\n",
            "Get:8 http://ppa.launchpad.net/c2d4u.team/c2d4u4.0+/ubuntu bionic InRelease [15.9 kB]\n",
            "Get:10 http://archive.ubuntu.com/ubuntu bionic-updates InRelease [88.7 kB]\n",
            "Hit:12 http://ppa.launchpad.net/cran/libgit2/ubuntu bionic InRelease\n",
            "Get:13 http://archive.ubuntu.com/ubuntu bionic-backports InRelease [74.6 kB]\n",
            "Hit:14 http://ppa.launchpad.net/deadsnakes/ppa/ubuntu bionic InRelease\n",
            "Get:15 http://security.ubuntu.com/ubuntu bionic-security/main amd64 Packages [1,963 kB]\n",
            "Hit:16 http://ppa.launchpad.net/graphics-drivers/ppa/ubuntu bionic InRelease\n",
            "Get:17 http://security.ubuntu.com/ubuntu bionic-security/universe amd64 Packages [1,392 kB]\n",
            "Get:18 http://archive.ubuntu.com/ubuntu bionic-updates/universe amd64 Packages [2,163 kB]\n",
            "Get:19 http://ppa.launchpad.net/c2d4u.team/c2d4u4.0+/ubuntu bionic/main Sources [1,738 kB]\n",
            "Get:20 http://archive.ubuntu.com/ubuntu bionic-updates/main amd64 Packages [2,394 kB]\n",
            "Get:21 http://ppa.launchpad.net/c2d4u.team/c2d4u4.0+/ubuntu bionic/main amd64 Packages [889 kB]\n",
            "Fetched 10.8 MB in 4s (2,891 kB/s)\n",
            "Reading package lists... Done\n",
            "Reading package lists... Done\n",
            "Building dependency tree       \n",
            "Reading state information... Done\n",
            "The following additional packages will be installed:\n",
            "  chromium-browser chromium-browser-l10n chromium-codecs-ffmpeg-extra\n",
            "Suggested packages:\n",
            "  webaccounts-chromium-extension unity-chromium-extension adobe-flashplugin\n",
            "The following NEW packages will be installed:\n",
            "  chromium-browser chromium-browser-l10n chromium-chromedriver\n",
            "  chromium-codecs-ffmpeg-extra\n",
            "0 upgraded, 4 newly installed, 0 to remove and 32 not upgraded.\n",
            "Need to get 81.0 MB of archives.\n",
            "After this operation, 273 MB of additional disk space will be used.\n",
            "Get:1 http://archive.ubuntu.com/ubuntu bionic-updates/universe amd64 chromium-codecs-ffmpeg-extra amd64 87.0.4280.66-0ubuntu0.18.04.1 [1,122 kB]\n",
            "Get:2 http://archive.ubuntu.com/ubuntu bionic-updates/universe amd64 chromium-browser amd64 87.0.4280.66-0ubuntu0.18.04.1 [71.7 MB]\n",
            "Get:3 http://archive.ubuntu.com/ubuntu bionic-updates/universe amd64 chromium-browser-l10n all 87.0.4280.66-0ubuntu0.18.04.1 [3,716 kB]\n",
            "Get:4 http://archive.ubuntu.com/ubuntu bionic-updates/universe amd64 chromium-chromedriver amd64 87.0.4280.66-0ubuntu0.18.04.1 [4,488 kB]\n",
            "Fetched 81.0 MB in 6s (14.2 MB/s)\n",
            "Selecting previously unselected package chromium-codecs-ffmpeg-extra.\n",
            "(Reading database ... 149406 files and directories currently installed.)\n",
            "Preparing to unpack .../chromium-codecs-ffmpeg-extra_87.0.4280.66-0ubuntu0.18.04.1_amd64.deb ...\n",
            "Unpacking chromium-codecs-ffmpeg-extra (87.0.4280.66-0ubuntu0.18.04.1) ...\n",
            "Selecting previously unselected package chromium-browser.\n",
            "Preparing to unpack .../chromium-browser_87.0.4280.66-0ubuntu0.18.04.1_amd64.deb ...\n",
            "Unpacking chromium-browser (87.0.4280.66-0ubuntu0.18.04.1) ...\n",
            "Selecting previously unselected package chromium-browser-l10n.\n",
            "Preparing to unpack .../chromium-browser-l10n_87.0.4280.66-0ubuntu0.18.04.1_all.deb ...\n",
            "Unpacking chromium-browser-l10n (87.0.4280.66-0ubuntu0.18.04.1) ...\n",
            "Selecting previously unselected package chromium-chromedriver.\n",
            "Preparing to unpack .../chromium-chromedriver_87.0.4280.66-0ubuntu0.18.04.1_amd64.deb ...\n",
            "Unpacking chromium-chromedriver (87.0.4280.66-0ubuntu0.18.04.1) ...\n",
            "Setting up chromium-codecs-ffmpeg-extra (87.0.4280.66-0ubuntu0.18.04.1) ...\n",
            "Setting up chromium-browser (87.0.4280.66-0ubuntu0.18.04.1) ...\n",
            "update-alternatives: using /usr/bin/chromium-browser to provide /usr/bin/x-www-browser (x-www-browser) in auto mode\n",
            "update-alternatives: using /usr/bin/chromium-browser to provide /usr/bin/gnome-www-browser (gnome-www-browser) in auto mode\n",
            "Setting up chromium-chromedriver (87.0.4280.66-0ubuntu0.18.04.1) ...\n",
            "Setting up chromium-browser-l10n (87.0.4280.66-0ubuntu0.18.04.1) ...\n",
            "Processing triggers for hicolor-icon-theme (0.17-2) ...\n",
            "Processing triggers for mime-support (3.60ubuntu1) ...\n",
            "Processing triggers for man-db (2.8.3-2ubuntu0.1) ...\n",
            "cp: '/usr/lib/chromium-browser/chromedriver' and '/usr/bin/chromedriver' are the same file\n"
          ],
          "name": "stdout"
        },
        {
          "output_type": "stream",
          "text": [
            "/usr/local/lib/python3.7/dist-packages/ipykernel_launcher.py:15: DeprecationWarning: use options instead of chrome_options\n",
            "  from ipykernel import kernelapp as app\n"
          ],
          "name": "stderr"
        },
        {
          "output_type": "stream",
          "text": [
            "Collecting pychromepdf\n",
            "  Downloading https://files.pythonhosted.org/packages/57/f4/75d2ef3b4a93b253924f56a3c0617768a1dbdc342ee552da596778f5bb8c/pychromepdf-1.1.tar.gz\n",
            "Building wheels for collected packages: pychromepdf\n",
            "  Building wheel for pychromepdf (setup.py) ... \u001b[?25l\u001b[?25hdone\n",
            "  Created wheel for pychromepdf: filename=pychromepdf-1.1-cp37-none-any.whl size=3930 sha256=882c388fecdf350919a4eab2d55f33a90d4d2aaa29111e1e5b362944423ac746\n",
            "  Stored in directory: /root/.cache/pip/wheels/1a/36/d0/ad437ab450ec64af6a601676a92e4d7c94ad5d0cf909189c4f\n",
            "Successfully built pychromepdf\n",
            "Installing collected packages: pychromepdf\n",
            "Successfully installed pychromepdf-1.1\n",
            "Cloning into 'data'...\n",
            "remote: Enumerating objects: 17, done.\u001b[K\n",
            "remote: Counting objects: 100% (17/17), done.\u001b[K\n",
            "remote: Compressing objects: 100% (14/14), done.\u001b[K\n",
            "remote: Total 17 (delta 5), reused 13 (delta 3), pack-reused 0\u001b[K\n",
            "Unpacking objects: 100% (17/17), done.\n"
          ],
          "name": "stdout"
        }
      ]
    },
    {
      "cell_type": "markdown",
      "metadata": {
        "id": "bwBnHj0g900U"
      },
      "source": [
        "## Define certificates informations\r\n",
        "Level, name and date of the certified person\r\n",
        "\r\n",
        "Texts of tasks description, level lists and signatures"
      ]
    },
    {
      "cell_type": "code",
      "metadata": {
        "id": "GvxjhN7woTFF"
      },
      "source": [
        "date = \"1st of January\"\n",
        "level = 2\n",
        " \n",
        "name_surname = 'Serena Vianello Vigil'\n",
        "initials = \"SVV\"\n",
        "position = \"VP\"\n",
        "task_description = \"\"\"As the Vice-President of a local section of ESN Switzerland, she has organised events for exchange\n",
        "students and acted as a mobility expert by giving advice with regard to living and studying abroad.\n",
        "In her two-semester mandate, she has displayed commitment to all given tasks and successfully met her\n",
        "challenges by being involved in various events and helping to organise them.\n",
        "During her time at ESN, she has developed useful skills such as working in teams with people from\n",
        "diverse backgrounds, intercultural competencies, time management and an improved level in languages,\n",
        "especially English.\n",
        "In her role as a Vice-President, her responsibilities included:\"\"\"\n",
        " \n",
        "task_list = ['Working on a board of 5-10 people.',\n",
        "  'Managing the local section.',\n",
        "  'Recruiting new members at the beginning of each semester.',\n",
        "  'Working closely with the local President to help them in diverse management tasks.',\n",
        "  'Being part of the Local Vice-presidents Community and collaborating with peers from 16 sections of',\n",
        "  'ESN Switzerland.'\n",
        "  ]\n",
        "section = 'Genève'\n",
        "local_president = \"Nicolas La Gennusa\"\n",
        " \n",
        "local_IRO = \"Daniela Sauge\"\n",
        "title_local_IRO = 'Service de la Mobilité Académique de l\\'Université de Genève'\n",
        " \n",
        "national_president = \"Fabien Jaccot\"\n",
        "international_president = 'Kostis Giannidis'\n",
        " \n",
        "levels_list = [\n",
        "  'Tier 1: Active Members and part of a local ESN section',\n",
        "  'Tier 2: Local Board Members in a key position of a local ESN section',\n",
        "  'Tier 3: National Level Members help to coordinate the 14 local sections',\n",
        "  'Tier 4: National Board Members take part in strategic decisions of ESN Switzerland'\n",
        "]"
      ],
      "execution_count": 2,
      "outputs": []
    },
    {
      "cell_type": "markdown",
      "metadata": {
        "id": "hlesrUfz-Jf0"
      },
      "source": [
        "## Generate HTML version of certificate\r\n",
        "Linked to images uploaded and CSS file"
      ]
    },
    {
      "cell_type": "code",
      "metadata": {
        "id": "-0PhdNQLlc4A",
        "cellView": "code"
      },
      "source": [
        "with open('/content/data/style.css') as file:\n",
        "  css = file.read()\n",
        "\n",
        "#@title Default title text\n",
        "doc, tag, text, line = Doc().ttl()\n",
        "\n",
        "with tag('style'):\n",
        "  doc.asis('\\n' + css)\n",
        "\n",
        "doc.asis('<!DOCTYPE html>')\n",
        "with tag('html'):\n",
        "  with tag('head'):\n",
        "    doc.asis('<meta charset=\"utf-8\">')\n",
        "  with tag('body'):\n",
        "    with tag('div', klass = 'content'):\n",
        "      with tag('div', klass=\"border1\"):\n",
        "        line('p', f'Date: {date}')\n",
        "        line('p', f'Tier: Level {level}')\n",
        "      with tag('div', klass = 'texte-content'):          \n",
        "\n",
        "        with tag('div', klass = \"title_box\"):\n",
        "          line('p', 'CERTIFICATE OF RECOGNITION')\n",
        "          line('p', 'awarded to')\n",
        "          line('p', name_surname)\n",
        "          line('p', f'as {position} of ESN {section}')\n",
        "\n",
        "        with tag('div', klass = \"signatures\"):\n",
        "          # LEVEL 1\n",
        "          if level == 1:\n",
        "            # local president info & logo\n",
        "            with tag('info'):\n",
        "              line('p', local_president)\n",
        "              line('p', f'Local President of ESN {section}')\n",
        "              with tag ('div', klass = 'trait'):\n",
        "                pass\n",
        "            doc.stag('img', src=f'/content/data/logo_ESN_{section}.png', klass=\"logo\")\n",
        "\n",
        "            # IRO info & logo\n",
        "            with tag('info'):\n",
        "              line('p', local_IRO)\n",
        "              line('p', title_local_IRO)\n",
        "              with tag ('div', klass = 'trait'):\n",
        "                pass\n",
        "            doc.stag('img', src=f'/content/data/logo_Uni_{section}.png', klass=\"logo\")\n",
        "\n",
        "          # LEVEL 2\n",
        "          if level == 2:\n",
        "            # national president info & logo\n",
        "            with tag('info'):\n",
        "              line('p', national_president)\n",
        "              line('p', f'National President of ESN Switzerland')\n",
        "              doc.stag('img', src=f'/content/data/signature_national_president.png', klass=\"signature\")\n",
        "            doc.stag('img', src=f'/content/data/logo_ESN_CH.png', klass=\"logo\")\n",
        "\n",
        "            # IRO info & logo\n",
        "            with tag('info'):\n",
        "              line('p', local_IRO)\n",
        "              line('p', title_local_IRO)\n",
        "              with tag ('div', klass = 'trait'):\n",
        "                pass\n",
        "            doc.stag('img', src=f'/content/data/logo_Uni_{section}.png', klass=\"logo\")\n",
        "\n",
        "            # MOVETIA info & logo\n",
        "            with tag('info'):\n",
        "              line('p', \"Oliver Tschopp\" )\n",
        "              line('p', 'Director of Movetia')\n",
        "              with tag ('div', klass = 'trait'):\n",
        "                pass\n",
        "            doc.stag('img', src=f'/content/data/logo_movetia.png', klass=\"logo\")\n",
        "\n",
        "          # LEVEL 3\n",
        "          if level == 3:\n",
        "            # national president info & logo\n",
        "            with tag('info'):\n",
        "              line('p', national_president)\n",
        "              line('p', f'National President of ESN Switzerland')\n",
        "              doc.stag('img', src=f'/content/data/signature_national_president.png', klass=\"signature\")\n",
        "            doc.stag('img', src=f'/content/data/logo_ESN_CH.png', klass=\"logo\")\n",
        "\n",
        "            # MOVETIA info & logo\n",
        "            with tag('info'):\n",
        "              line('p', \"Oliver Tschopp\" )\n",
        "              line('p', 'Director of Movetia')\n",
        "              with tag ('div', klass = 'trait'):\n",
        "                pass\n",
        "            doc.stag('img', src=f'/content/data/logo_movetia.png', klass=\"logo\")\n",
        "\n",
        "          # LEVEL 4\n",
        "          if level == 4:\n",
        "            # international president info & logo\n",
        "            with tag('info'):\n",
        "              line('p', international_president)\n",
        "              line('p', f'President of ESN AISBL')\n",
        "              with tag ('div', klass = 'trait'):\n",
        "                pass\n",
        "            doc.stag('img', src=f'/content/data/logo_ESN_CH.png', klass=\"logo\")\n",
        "\n",
        "            # MOVETIA info & logo\n",
        "            with tag('info'):\n",
        "              line('p', \"Oliver Tschopp\" )\n",
        "              line('p', 'Director of Movetia')\n",
        "              with tag ('div', klass = 'trait'):\n",
        "                pass\n",
        "            doc.stag('img', src=f'/content/data/logo_movetia.png', klass=\"logo\")\n",
        "        \n",
        "        with tag('div', klass = \"task_description\"):\n",
        "          line('p', task_description)\n",
        "          with tag('ul', id='task-list'):\n",
        "            for task_item in task_list:\n",
        "              line('li', task_item)\n",
        "          for level_idx, level_text in enumerate(levels_list):\n",
        "            if level_idx == level -1:\n",
        "              with tag('p'):\n",
        "                line('b', level_text)\n",
        "            else:\n",
        "              line('p', level_text)\n",
        "\n",
        "      with tag('div', klass = \"footer\"):\n",
        "        with tag('info'):\n",
        "          line('p', 'Supported by:')\n",
        "          line('p',\"\"\" ESN Switzerland is supported by the State Secretariat for \n",
        "          Education, Research and Innovation SERI, through Movetia, the Swiss National \n",
        "          Agency for the Promotion of Exchange and Mobility. Together they support \n",
        "          the promotion of student mobility in Switzerland.\"\"\" )\n",
        "        doc.stag('img', src=f'/content/data/logo_SEFRI.png', klass=\"logo\")\n",
        "\n",
        "\n",
        " # print(indent(doc.getvalue()))\n",
        "name_certificate = f\"Certificate_{initials}_level{level}\"\n",
        "Html_file= open(name_certificate + \".html\",\"w\", encoding='utf-8', errors='ignore')\n",
        "Html_file.write(indent(doc.getvalue()))\n",
        "Html_file.close()"
      ],
      "execution_count": 6,
      "outputs": []
    },
    {
      "cell_type": "markdown",
      "metadata": {
        "id": "dvPCS-xkS4rD"
      },
      "source": [
        "# Generate PDF from HTML\r\n",
        "This section generates a pdf certificate from the generated html file from last section"
      ]
    },
    {
      "cell_type": "code",
      "metadata": {
        "id": "hSIrnQxcCMpo"
      },
      "source": [
        "from pychromepdf import ChromePDF\r\n",
        "# change to your chrome executable path\r\n",
        "PATH_TO_CHROME_EXE = '/usr/bin/chromium-browser'\r\n",
        "\r\n",
        "# initialize chromepdf object\r\n",
        "cpdf = ChromePDF(PATH_TO_CHROME_EXE, sandbox = False)\r\n",
        "cpdf._chrome_options.append('--run-all-compositor-stages-before-draw')\r\n",
        "\r\n",
        "# the html that need to be rendered into pdf\r\n",
        "html_bytestring = open(name_certificate + '.html','r').read()\r\n",
        "\r\n",
        "with open(name_certificate + '.pdf','w') as output_file:\r\n",
        "    cpdf.html_to_pdf(html_bytestring,output_file)"
      ],
      "execution_count": 7,
      "outputs": []
    },
    {
      "cell_type": "code",
      "metadata": {
        "id": "UsSMkzm-D154"
      },
      "source": [
        ""
      ],
      "execution_count": null,
      "outputs": []
    },
    {
      "cell_type": "code",
      "metadata": {
        "id": "Q_0e_42nCkGN"
      },
      "source": [
        ""
      ],
      "execution_count": null,
      "outputs": []
    },
    {
      "cell_type": "code",
      "metadata": {
        "id": "4nPd1oLHCkYe"
      },
      "source": [
        ""
      ],
      "execution_count": null,
      "outputs": []
    }
  ]
}